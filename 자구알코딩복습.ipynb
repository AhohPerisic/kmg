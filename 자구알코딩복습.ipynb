{
  "nbformat": 4,
  "nbformat_minor": 0,
  "metadata": {
    "colab": {
      "provenance": [],
      "authorship_tag": "ABX9TyN1kgLOsrSZr7qqEGzdAFCX",
      "include_colab_link": true
    },
    "kernelspec": {
      "name": "python3",
      "display_name": "Python 3"
    },
    "language_info": {
      "name": "python"
    }
  },
  "cells": [
    {
      "cell_type": "markdown",
      "metadata": {
        "id": "view-in-github",
        "colab_type": "text"
      },
      "source": [
        "<a href=\"https://colab.research.google.com/github/AhohPerisic/kmg/blob/main/%EC%9E%90%EA%B5%AC%EC%95%8C%EC%BD%94%EB%94%A9%EB%B3%B5%EC%8A%B5.ipynb\" target=\"_parent\"><img src=\"https://colab.research.google.com/assets/colab-badge.svg\" alt=\"Open In Colab\"/></a>"
      ]
    },
    {
      "cell_type": "code",
      "execution_count": null,
      "metadata": {
        "id": "PNF2qdwoFew4"
      },
      "outputs": [],
      "source": [
        "# List copy\n",
        "# 1. 입력: 원래 데이터와 카피 데이터\n",
        "# Operation : 반복문을 통하여 복사\n",
        "# 3. 출력: 카피한 데이터"
      ]
    },
    {
      "cell_type": "code",
      "source": [
        "OriginData = [1,2,3,4,5,6,7,8]\n",
        "CopyData = [0 for _ in range(len(OriginData))]\n",
        "\n",
        "for i in range(len(OriginData)):\n",
        "  CopyData[i] = OriginData[i]\n",
        "\n",
        "\n",
        "print(CopyData)"
      ],
      "metadata": {
        "colab": {
          "base_uri": "https://localhost:8080/"
        },
        "id": "4sKyu2HFGTgF",
        "outputId": "d0102cde-d56d-4c6f-9a5a-f28b80e24981"
      },
      "execution_count": null,
      "outputs": [
        {
          "output_type": "stream",
          "name": "stdout",
          "text": [
            "[1, 2, 3, 4, 5, 6, 7, 8]\n"
          ]
        }
      ]
    },
    {
      "cell_type": "code",
      "source": [
        "# Insert a meber\n",
        "# input: data = ['A','B','C','D']\n",
        "# operation\n",
        "# 1.len(data) 비교 -> < 0 출력 x (함수에 필요한 변수: position, name)\n",
        "# 2. append 'E'\n",
        "# 3. 반복문 써서 리스트 값 밀기 -> data[i -1] = data[i] , 반복문의 범위는 kLen -1, position,-1 씩\n",
        "# 4. data 포지션 열에 name 추가\n",
        "# 5. 출력\n",
        "# output: data = ['A','B','C','D','E']"
      ],
      "metadata": {
        "id": "AirFExeJ3QRi"
      },
      "execution_count": null,
      "outputs": []
    },
    {
      "cell_type": "code",
      "source": [
        "data = ['A','B','C','D']\n",
        "\n",
        "def Insert(position, name):\n",
        "  if (position > len(data) or position < 0):\n",
        "    print(\"out of range...\")\n",
        "    return\n",
        "  else:\n",
        "    data.append(None)\n",
        "    kLen = len(data)\n",
        "\n",
        "  for i in range(kLen-1, position, -1):\n",
        "    data[i] = data[i-1]\n",
        "    data[i-1] = None\n",
        "\n",
        "  data[position] = name\n",
        "\n",
        "print(data)\n",
        "Insert(4, 'E')\n",
        "print(data)\n"
      ],
      "metadata": {
        "colab": {
          "base_uri": "https://localhost:8080/"
        },
        "id": "qQ9q8Ghj5_07",
        "outputId": "57a853ae-6f14-4972-c8eb-4d5813dd5e2c"
      },
      "execution_count": 4,
      "outputs": [
        {
          "output_type": "stream",
          "name": "stdout",
          "text": [
            "['A', 'B', 'C', 'D']\n",
            "['A', 'B', 'C', 'D', 'E']\n"
          ]
        }
      ]
    },
    {
      "cell_type": "code",
      "source": [
        "# delete a number\n",
        "# input: data['A','B','C','D','E']\n",
        "# operation\n",
        "# 1. len(data) 비교 -> < 0 출력 x (함수에 필요한 변수: position)\n",
        "# 2. data position 에 None 추가\n",
        "# 3. 반복문 써서 list 값 당기기 범위: position + 1 부터  len(data) 까지\n",
        "# 3. del data\n",
        "# 4. 출력\n",
        "# output: data['A','B','C','D','E']\n",
        "\n",
        "def deldata(position):\n",
        "  if position < 0 or position > len(data):\n",
        "    return \"error\"\n",
        "  else:\n",
        "    data[position] = None\n",
        "    kLen = len(data)\n",
        "\n",
        "  for i in range(position, kLen-1):\n",
        "    data[i] = data[i+1]\n",
        "    data[i+1] = None\n",
        "\n",
        "  del(data[position])\n",
        "\n",
        "print(data)\n",
        "deldata(4)\n",
        "print(data)\n"
      ],
      "metadata": {
        "colab": {
          "base_uri": "https://localhost:8080/"
        },
        "id": "Fl-TtsFD8gXv",
        "outputId": "1f7a3e3b-aa55-449a-94af-950b0fb12040"
      },
      "execution_count": 5,
      "outputs": [
        {
          "output_type": "stream",
          "name": "stdout",
          "text": [
            "['A', 'B', 'C', 'D', 'E']\n",
            "['A', 'B', 'C', 'D']\n"
          ]
        }
      ]
    },
    {
      "cell_type": "code",
      "source": [
        "def deldata(position):\n",
        "  if position < 0 or position > len(data):\n",
        "    return \"error\"\n",
        "  else:\n",
        "    data[position] = None\n",
        "    kLen = len(data)\n",
        "\n",
        "  for i in range(position, kLen-1):\n",
        "    data[i] = data[i+1]\n",
        "\n",
        "    data[kLen-1] = None\n",
        "\n",
        "  del(data[position])\n",
        "\n",
        "print(data)\n",
        "deldata(3)\n",
        "print(data)\n"
      ],
      "metadata": {
        "colab": {
          "base_uri": "https://localhost:8080/"
        },
        "id": "n2YbMgCDAF8N",
        "outputId": "38fc9e26-4f42-4752-bfbc-8cd4bbc59761"
      },
      "execution_count": 7,
      "outputs": [
        {
          "output_type": "stream",
          "name": "stdout",
          "text": [
            "['A', 'B', 'C', 'D']\n",
            "['A', 'B', 'C']\n"
          ]
        }
      ]
    },
    {
      "cell_type": "code",
      "source": [
        "# sortng a number\n",
        "# input: ip = [10,5,30,40,2,4,9]\n",
        "# operation\n",
        "# 1. input의 i 와 i+1 요소값 비교하기\n",
        "# 2. 더 큰 값을 op i+1에 저장\n",
        "# 3. len(ip) 만큼 반복\n",
        "# 4. 출력\n",
        "# output: op = [2,4,5,9,10,30,40]\n",
        "# 함수를 정의할 필요 없을듯.\n",
        "\n",
        "ip = [10,5,30,40,2,4,9]\n",
        "op = [0 for _ in range(len(ip))]\n",
        "\n",
        "for i in range(len(ip)):\n",
        "  op[i] = ip[i]\n",
        "\n",
        "\n",
        "for i in range(len(ip)):\n",
        "  for j in range(0, len(op)-i-1):\n",
        "    if op[j] > op[j+1]:\n",
        "      op[j], op[j+1] = op[j+1],op[j]\n",
        "\n",
        "print(op)\n"
      ],
      "metadata": {
        "colab": {
          "base_uri": "https://localhost:8080/"
        },
        "id": "8dwbHTz9APLh",
        "outputId": "42a610b5-0ec9-40f8-cdcd-14445dc5b3a0"
      },
      "execution_count": 28,
      "outputs": [
        {
          "output_type": "stream",
          "name": "stdout",
          "text": [
            "[2, 4, 5, 9, 10, 30, 40]\n"
          ]
        }
      ]
    },
    {
      "cell_type": "code",
      "source": [
        "def isStackfull():\n",
        "  if SIZE-1 <= top:\n",
        "    return True\n",
        "  else:\n",
        "    return False"
      ],
      "metadata": {
        "id": "RieUBRlUHZ71"
      },
      "execution_count": 34,
      "outputs": []
    },
    {
      "cell_type": "code",
      "source": [
        "# Stack\n",
        "SIZE = 5\n",
        "stack = ['A','B','C','D','E']\n",
        "top = 4\n",
        "\n",
        "print(\"check the full statement?\", isStackfull() )"
      ],
      "metadata": {
        "colab": {
          "base_uri": "https://localhost:8080/"
        },
        "id": "-3kB0CSgB626",
        "outputId": "95e38142-e886-403b-8f65-239bb69eb66e"
      },
      "execution_count": 35,
      "outputs": [
        {
          "output_type": "stream",
          "name": "stdout",
          "text": [
            "check the full statement? True\n"
          ]
        }
      ]
    },
    {
      "cell_type": "code",
      "source": [
        "# 리스트에 맨 뒤에 있는 값을 빼내는 것\n",
        "stack = ['A','B','C','D']\n",
        "stack.append(None)\n",
        "SIZE = len(stack)\n",
        "\n",
        "# top 값 찾아보기\n",
        "top = SIZE - 2\n",
        "\n",
        "def push(data):\n",
        "  global top\n",
        "  if isStackfull():\n",
        "    print(\"stack is full\")\n",
        "    return\n",
        "\n",
        "  top += 1\n",
        "  stack[top] = data\n",
        "\n",
        "push('E')\n",
        "print(stack)"
      ],
      "metadata": {
        "colab": {
          "base_uri": "https://localhost:8080/"
        },
        "id": "WhH9iVlnHBc5",
        "outputId": "9e4568d9-6a0f-430e-bde6-98b71b57f87e"
      },
      "execution_count": 51,
      "outputs": [
        {
          "output_type": "stream",
          "name": "stdout",
          "text": [
            "['A', 'B', 'C', 'D', 'E']\n"
          ]
        }
      ]
    },
    {
      "cell_type": "code",
      "source": [
        "# IsStackEmpty\n",
        "# 스텍이 전부 비었는지 확인하는 함수\n",
        "# top = -1 이면 끝남.\n",
        "def isStackempty():\n",
        " return top == -1\n"
      ],
      "metadata": {
        "id": "QJux5WlBJjp2"
      },
      "execution_count": 54,
      "outputs": []
    },
    {
      "cell_type": "code",
      "source": [
        "# pop() 함수 만들기\n",
        "# 입력값: SIZE, top,stack\n",
        "# operation\n",
        "# 1. 스텍이 비었는지 확인\n",
        "# 2. stack[top] = None\n",
        "# 3, top 은 왼쪽으로 당기기\n",
        "# 출력값: stack 리스트에서 맨 마지막 값이 사라짐.\n",
        "\n",
        "def pop():\n",
        "  global SIZE,top,stack\n",
        "  if isStackempty():\n",
        "    return 'error'\n",
        "  else:\n",
        "    stack[top] = None\n",
        "    top -= 1\n",
        "\n",
        "\n"
      ],
      "metadata": {
        "id": "dkGvyW_eM11s"
      },
      "execution_count": 55,
      "outputs": []
    },
    {
      "cell_type": "code",
      "source": [
        "pop()\n",
        "print(stack)"
      ],
      "metadata": {
        "colab": {
          "base_uri": "https://localhost:8080/"
        },
        "id": "KrSLQJEePMEG",
        "outputId": "904a831e-531a-428e-cf16-4aff0e61a12b"
      },
      "execution_count": 56,
      "outputs": [
        {
          "output_type": "stream",
          "name": "stdout",
          "text": [
            "['A', 'B', 'C', 'D', None]\n"
          ]
        }
      ]
    },
    {
      "cell_type": "code",
      "source": [],
      "metadata": {
        "id": "uErBW4NKPOs5"
      },
      "execution_count": null,
      "outputs": []
    }
  ]
}