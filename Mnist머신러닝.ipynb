{
  "nbformat": 4,
  "nbformat_minor": 0,
  "metadata": {
    "colab": {
      "provenance": [],
      "collapsed_sections": [
        "hkWcJCXu5mNz",
        "rySid5t-0eQu"
      ],
      "authorship_tag": "ABX9TyPOiv3Z9KGOiIjlnyo/jMwz",
      "include_colab_link": true
    },
    "kernelspec": {
      "name": "python3",
      "display_name": "Python 3"
    },
    "language_info": {
      "name": "python"
    }
  },
  "cells": [
    {
      "cell_type": "markdown",
      "metadata": {
        "id": "view-in-github",
        "colab_type": "text"
      },
      "source": [
        "<a href=\"https://colab.research.google.com/github/AhohPerisic/kmg/blob/main/Mnist%EB%A8%B8%EC%8B%A0%EB%9F%AC%EB%8B%9D.ipynb\" target=\"_parent\"><img src=\"https://colab.research.google.com/assets/colab-badge.svg\" alt=\"Open In Colab\"/></a>"
      ]
    },
    {
      "cell_type": "markdown",
      "source": [
        "# 23102311 김민규"
      ],
      "metadata": {
        "id": "sIUOtKAIx6gZ"
      }
    },
    {
      "cell_type": "markdown",
      "source": [
        "# Mnist"
      ],
      "metadata": {
        "id": "hkWcJCXu5mNz"
      }
    },
    {
      "cell_type": "code",
      "source": [
        "# 진행전 시드 값을 모두 고정하여 진행 하겠습니다!\n",
        "from sklearn.datasets import fetch_openml\n",
        "from sklearn.model_selection import train_test_split\n",
        "from sklearn.ensemble import RandomForestClassifier\n",
        "from sklearn.metrics import accuracy_score, classification_report, confusion_matrix\n",
        "\n",
        "# MNIST 데이터셋 로드\n",
        "mnist = fetch_openml('mnist_784')\n",
        "\n",
        "# 데이터와 라벨 분리\n",
        "X, y = mnist['data'], mnist['target']\n",
        "\n",
        "# 훈련 세트와 테스트 세트로 데이터 분리\n",
        "X_train, X_test, y_train, y_test = train_test_split(X, y, test_size=0.2, random_state=42)\n",
        "\n"
      ],
      "metadata": {
        "colab": {
          "base_uri": "https://localhost:8080/"
        },
        "id": "Ggdafh4Lrxpj",
        "outputId": "46a75344-bda5-4263-fe41-fb326f4f2396"
      },
      "execution_count": 59,
      "outputs": [
        {
          "output_type": "stream",
          "name": "stderr",
          "text": [
            "/usr/local/lib/python3.10/dist-packages/sklearn/datasets/_openml.py:968: FutureWarning: The default value of `parser` will change from `'liac-arff'` to `'auto'` in 1.4. You can set `parser='auto'` to silence this warning. Therefore, an `ImportError` will be raised from 1.4 if the dataset is dense and pandas is not installed. Note that the pandas parser may return different data types. See the Notes Section in fetch_openml's API doc for details.\n",
            "  warn(\n"
          ]
        }
      ]
    },
    {
      "cell_type": "code",
      "source": [
        "# 랜덤 포레스트 분류기 모델 초기화 및 훈련\n",
        "rf_clf = RandomForestClassifier(n_estimators=100, random_state=42)\n",
        "rf_clf.fit(X_train, y_train)"
      ],
      "metadata": {
        "colab": {
          "base_uri": "https://localhost:8080/",
          "height": 74
        },
        "id": "sixNRAPQrx7F",
        "outputId": "dc6453eb-2360-4476-c8de-f7ba47987fb2"
      },
      "execution_count": 55,
      "outputs": [
        {
          "output_type": "execute_result",
          "data": {
            "text/plain": [
              "RandomForestClassifier(random_state=42)"
            ],
            "text/html": [
              "<style>#sk-container-id-1 {color: black;background-color: white;}#sk-container-id-1 pre{padding: 0;}#sk-container-id-1 div.sk-toggleable {background-color: white;}#sk-container-id-1 label.sk-toggleable__label {cursor: pointer;display: block;width: 100%;margin-bottom: 0;padding: 0.3em;box-sizing: border-box;text-align: center;}#sk-container-id-1 label.sk-toggleable__label-arrow:before {content: \"▸\";float: left;margin-right: 0.25em;color: #696969;}#sk-container-id-1 label.sk-toggleable__label-arrow:hover:before {color: black;}#sk-container-id-1 div.sk-estimator:hover label.sk-toggleable__label-arrow:before {color: black;}#sk-container-id-1 div.sk-toggleable__content {max-height: 0;max-width: 0;overflow: hidden;text-align: left;background-color: #f0f8ff;}#sk-container-id-1 div.sk-toggleable__content pre {margin: 0.2em;color: black;border-radius: 0.25em;background-color: #f0f8ff;}#sk-container-id-1 input.sk-toggleable__control:checked~div.sk-toggleable__content {max-height: 200px;max-width: 100%;overflow: auto;}#sk-container-id-1 input.sk-toggleable__control:checked~label.sk-toggleable__label-arrow:before {content: \"▾\";}#sk-container-id-1 div.sk-estimator input.sk-toggleable__control:checked~label.sk-toggleable__label {background-color: #d4ebff;}#sk-container-id-1 div.sk-label input.sk-toggleable__control:checked~label.sk-toggleable__label {background-color: #d4ebff;}#sk-container-id-1 input.sk-hidden--visually {border: 0;clip: rect(1px 1px 1px 1px);clip: rect(1px, 1px, 1px, 1px);height: 1px;margin: -1px;overflow: hidden;padding: 0;position: absolute;width: 1px;}#sk-container-id-1 div.sk-estimator {font-family: monospace;background-color: #f0f8ff;border: 1px dotted black;border-radius: 0.25em;box-sizing: border-box;margin-bottom: 0.5em;}#sk-container-id-1 div.sk-estimator:hover {background-color: #d4ebff;}#sk-container-id-1 div.sk-parallel-item::after {content: \"\";width: 100%;border-bottom: 1px solid gray;flex-grow: 1;}#sk-container-id-1 div.sk-label:hover label.sk-toggleable__label {background-color: #d4ebff;}#sk-container-id-1 div.sk-serial::before {content: \"\";position: absolute;border-left: 1px solid gray;box-sizing: border-box;top: 0;bottom: 0;left: 50%;z-index: 0;}#sk-container-id-1 div.sk-serial {display: flex;flex-direction: column;align-items: center;background-color: white;padding-right: 0.2em;padding-left: 0.2em;position: relative;}#sk-container-id-1 div.sk-item {position: relative;z-index: 1;}#sk-container-id-1 div.sk-parallel {display: flex;align-items: stretch;justify-content: center;background-color: white;position: relative;}#sk-container-id-1 div.sk-item::before, #sk-container-id-1 div.sk-parallel-item::before {content: \"\";position: absolute;border-left: 1px solid gray;box-sizing: border-box;top: 0;bottom: 0;left: 50%;z-index: -1;}#sk-container-id-1 div.sk-parallel-item {display: flex;flex-direction: column;z-index: 1;position: relative;background-color: white;}#sk-container-id-1 div.sk-parallel-item:first-child::after {align-self: flex-end;width: 50%;}#sk-container-id-1 div.sk-parallel-item:last-child::after {align-self: flex-start;width: 50%;}#sk-container-id-1 div.sk-parallel-item:only-child::after {width: 0;}#sk-container-id-1 div.sk-dashed-wrapped {border: 1px dashed gray;margin: 0 0.4em 0.5em 0.4em;box-sizing: border-box;padding-bottom: 0.4em;background-color: white;}#sk-container-id-1 div.sk-label label {font-family: monospace;font-weight: bold;display: inline-block;line-height: 1.2em;}#sk-container-id-1 div.sk-label-container {text-align: center;}#sk-container-id-1 div.sk-container {/* jupyter's `normalize.less` sets `[hidden] { display: none; }` but bootstrap.min.css set `[hidden] { display: none !important; }` so we also need the `!important` here to be able to override the default hidden behavior on the sphinx rendered scikit-learn.org. See: https://github.com/scikit-learn/scikit-learn/issues/21755 */display: inline-block !important;position: relative;}#sk-container-id-1 div.sk-text-repr-fallback {display: none;}</style><div id=\"sk-container-id-1\" class=\"sk-top-container\"><div class=\"sk-text-repr-fallback\"><pre>RandomForestClassifier(random_state=42)</pre><b>In a Jupyter environment, please rerun this cell to show the HTML representation or trust the notebook. <br />On GitHub, the HTML representation is unable to render, please try loading this page with nbviewer.org.</b></div><div class=\"sk-container\" hidden><div class=\"sk-item\"><div class=\"sk-estimator sk-toggleable\"><input class=\"sk-toggleable__control sk-hidden--visually\" id=\"sk-estimator-id-1\" type=\"checkbox\" checked><label for=\"sk-estimator-id-1\" class=\"sk-toggleable__label sk-toggleable__label-arrow\">RandomForestClassifier</label><div class=\"sk-toggleable__content\"><pre>RandomForestClassifier(random_state=42)</pre></div></div></div></div></div>"
            ]
          },
          "metadata": {},
          "execution_count": 55
        }
      ]
    },
    {
      "cell_type": "code",
      "source": [
        "# 테스트 세트에 대한 예측\n",
        "y_pred = rf_clf.predict(X_test)"
      ],
      "metadata": {
        "id": "2RoSGs5lryQa"
      },
      "execution_count": 56,
      "outputs": []
    },
    {
      "cell_type": "code",
      "source": [
        "# Confusion matrix 출력\n",
        "print(\"Confusion Matrix:\")\n",
        "print(confusion_matrix(y_test, y_pred))\n"
      ],
      "metadata": {
        "colab": {
          "base_uri": "https://localhost:8080/"
        },
        "id": "zRERMkgVtU0V",
        "outputId": "7fc36c2c-a32d-48f9-83a4-43aab88d9760"
      },
      "execution_count": 62,
      "outputs": [
        {
          "output_type": "stream",
          "name": "stdout",
          "text": [
            "Confusion Matrix:\n",
            "[[1325    0    4    0    1    1    3    1    6    2]\n",
            " [   0 1573    6    8    2    0    0    6    3    2]\n",
            " [   4    5 1334    4    5    1    9    8    8    2]\n",
            " [   1    0   23 1366    0    9    0   14   12    8]\n",
            " [   4    1    3    0 1257    0    2    3    3   22]\n",
            " [   1    3    3   17    4 1226    8    1    8    2]\n",
            " [   4    1    0    0    6   10 1372    0    3    0]\n",
            " [   3    5   15    0    7    1    0 1455    2   15]\n",
            " [   1    6    9   15    6   11    5    7 1290    7]\n",
            " [   4    6    5   16   20    5    1   10    9 1344]]\n"
          ]
        }
      ]
    },
    {
      "cell_type": "code",
      "source": [
        "# Confusion matrix 시각화\n",
        "plt.matshow(conf_matrix, cmap=plt.cm.Blues)\n",
        "plt.colorbar()\n",
        "plt.xlabel('Predicted')\n",
        "plt.ylabel('Actual')\n",
        "plt.title('Confusion Matrix')\n",
        "plt.show()\n"
      ],
      "metadata": {
        "colab": {
          "base_uri": "https://localhost:8080/",
          "height": 426
        },
        "id": "xeDcPBOVxbLK",
        "outputId": "a391289d-3824-4278-8962-661656009434"
      },
      "execution_count": 74,
      "outputs": [
        {
          "output_type": "display_data",
          "data": {
            "text/plain": [
              "<Figure size 480x480 with 2 Axes>"
            ],
            "image/png": "[encoded data removed]"
          },
          "metadata": {}
        }
      ]
    },
    {
      "cell_type": "markdown",
      "source": [
        "Confusion matrix을 시각화 해보니 1과 7이 어두워 보입니다.\n",
        "샘플 수를 확인하여 데이터가 불균형한지 보도록 하겠습니다."
      ],
      "metadata": {
        "id": "dU54OP2B6XEL"
      }
    },
    {
      "cell_type": "code",
      "source": [
        "# 샘플 수 확인하기\n",
        "plt.figure(figsize=(10, 6))\n",
        "plt.bar(class_samples_count.keys(), class_samples_count.values(), color='skyblue')\n",
        "plt.xlabel('Class')\n",
        "plt.ylabel('Sample Count')\n",
        "plt.title('Sample Count per Class')\n",
        "plt.show()"
      ],
      "metadata": {
        "colab": {
          "base_uri": "https://localhost:8080/",
          "height": 564
        },
        "id": "ftfCrsxm1tn7",
        "outputId": "903d18e8-7b65-474c-9d2c-4bc5008b8cf5"
      },
      "execution_count": 80,
      "outputs": [
        {
          "output_type": "display_data",
          "data": {
            "text/plain": [
              "<Figure size 1000x600 with 1 Axes>"
            ],
            "image/png": "[encoded data removed]"
          },
          "metadata": {}
        }
      ]
    },
    {
      "cell_type": "markdown",
      "source": [
        "샘플 수를 확인 해보니 Mnist는 데이터가 모두 고르게 분포 돼 있는것 같습니다.\n",
        "그렇다면 precision 과 Recall, F1-score를 구하여 확인해보도록 하겠습니다."
      ],
      "metadata": {
        "id": "Y-HlJK2t6xCP"
      }
    },
    {
      "cell_type": "code",
      "source": [
        "from sklearn.metrics import confusion_matrix\n",
        "\n",
        "conf_matrix = confusion_matrix(y_test, y_pred)\n",
        "\n",
        "# Precision 계산\n",
        "precision = np.diag(conf_matrix) / np.sum(conf_matrix, axis=0)\n",
        "\n",
        "# Recall 계산\n",
        "recall = np.diag(conf_matrix) / np.sum(conf_matrix, axis=1)\n",
        "\n",
        "# F1 점수 계산\n",
        "f1_score = 2 * (precision * recall) / (precision + recall)\n",
        "\n",
        "print(\"Precision:\", precision)\n",
        "print(\"Recall:\", recall)\n",
        "print(\"F1 Score:\", f1_score)\n"
      ],
      "metadata": {
        "colab": {
          "base_uri": "https://localhost:8080/"
        },
        "id": "ntLZ6kP8wScx",
        "outputId": "f0c3db18-cea4-4fe7-879b-5f8779af146d"
      },
      "execution_count": 81,
      "outputs": [
        {
          "output_type": "stream",
          "name": "stdout",
          "text": [
            "Precision: [0.98366741 0.983125   0.95149786 0.95792426 0.96100917 0.96993671\n",
            " 0.98       0.96677741 0.95982143 0.95726496]\n",
            "Recall: [0.98659717 0.983125   0.96666667 0.95324494 0.97065637 0.96307934\n",
            " 0.98280802 0.96806387 0.95062638 0.94647887]\n",
            "F1 Score: [0.98513011 0.983125   0.95902229 0.95557887 0.96580868 0.96649586\n",
            " 0.981402   0.96742021 0.95520178 0.95184136]\n"
          ]
        }
      ]
    },
    {
      "cell_type": "markdown",
      "source": [
        "모두 0.95 이상의 수치가 나왔습니다. 이로써 데이터가 고르게 분포 돼 있다는 것을 알 수 있습니다. 그렇다면 이제 정확도를 구해보도록 하겠습니다."
      ],
      "metadata": {
        "id": "9KSN6FqW7Fms"
      }
    },
    {
      "cell_type": "code",
      "source": [
        "# 정확도 출력\n",
        "print(\"Accuracy:\", accuracy_score(y_test, y_pred))"
      ],
      "metadata": {
        "colab": {
          "base_uri": "https://localhost:8080/"
        },
        "id": "pRBmRnXT7OwP",
        "outputId": "88bf3752-737c-41e8-e2a3-58f915dadd17"
      },
      "execution_count": 86,
      "outputs": [
        {
          "output_type": "stream",
          "name": "stdout",
          "text": [
            "Accuracy: 0.9672857142857143\n"
          ]
        }
      ]
    },
    {
      "cell_type": "markdown",
      "source": [
        "정확도는 0.96이 나왔습니다."
      ],
      "metadata": {
        "id": "LRO7Lqlw79lw"
      }
    },
    {
      "cell_type": "markdown",
      "source": [
        "결과를 간단하게 분석해보자면 우선 이 데이터는 0~9까지 multi-class이기 때문에 Multi-class classification인 랜덤 포레스트를 사용하였습니다. 이 모델의 사용 이유로는 Mnist의 데이터셋이 많이 존재한다는 것이며 여러 의사 결정 트리를 결정하고 앙상블을 생성해내는 모델이기 때문에 multiple data에 적합해 보여 사용하였습니다. 이러한 이유로 Random forest 모델을 사용하여 정확도 0.96, f1-score는 0.97이라는 성능이 나왔습니다."
      ],
      "metadata": {
        "id": "EI1s1hha8Cx7"
      }
    },
    {
      "cell_type": "markdown",
      "source": [
        "# 데이터간 불균형이 있는 샘플을 검증하기\n",
        "\n",
        "\n",
        "\n",
        ""
      ],
      "metadata": {
        "id": "rySid5t-0eQu"
      }
    },
    {
      "cell_type": "code",
      "source": [
        "# 각 클래스별 샘플 수 계산\n",
        "class_samples_count = {}\n",
        "for label in np.unique(y):\n",
        "    class_samples_count[label] = np.sum(y == label)"
      ],
      "metadata": {
        "id": "I8fVcxrr1SNK"
      },
      "execution_count": 78,
      "outputs": []
    },
    {
      "cell_type": "code",
      "source": [
        "# 1. 샘플 수 확인하기\n",
        "for label, count in class_samples_count.items():\n",
        "    print(f\"Class {label}: {count} samples\")"
      ],
      "metadata": {
        "colab": {
          "base_uri": "https://localhost:8080/"
        },
        "id": "Q825lC072Cez",
        "outputId": "45d67302-3e43-4c70-eafb-8f9cf337cb36"
      },
      "execution_count": 79,
      "outputs": [
        {
          "output_type": "stream",
          "name": "stdout",
          "text": [
            "Class 0: 6903 samples\n",
            "Class 1: 7877 samples\n",
            "Class 2: 6990 samples\n",
            "Class 3: 7141 samples\n",
            "Class 4: 6824 samples\n",
            "Class 5: 6313 samples\n",
            "Class 6: 6876 samples\n",
            "Class 7: 7293 samples\n",
            "Class 8: 6825 samples\n",
            "Class 9: 6958 samples\n"
          ]
        }
      ]
    },
    {
      "cell_type": "markdown",
      "source": [
        "위 1,2,3번을 보며 1과 7이 비교적 이미지가 적거나 분류기가 잘 분류하지 못한다고 추측햐였습니다."
      ],
      "metadata": {
        "id": "sjS856tiz5oe"
      }
    },
    {
      "cell_type": "markdown",
      "source": [
        "로지스틱 회귀를 사용하여 전처리를 진행하고자 합니다.\n"
      ],
      "metadata": {
        "id": "45uPaTIy4TCU"
      }
    },
    {
      "cell_type": "code",
      "source": [
        "from sklearn.linear_model import LogisticRegression\n",
        "from sklearn.metrics import accuracy_score\n",
        "\n",
        "\n",
        "# 클래스 레이블을 정수로 변환\n",
        "y_train_int = y_train.astype(int)\n",
        "\n",
        "# 클래스별 샘플 수 계산\n",
        "class_counts = np.bincount(y_train_int)\n",
        "\n",
        "# 클래스별 가중치 계산 (클래스 1과 7에 높은 가중치 부여)\n",
        "class_weights = {1: class_counts.max() / class_counts[1],\n",
        "                 7: class_counts.max() / class_counts[7]}\n",
        "\n",
        "# 로지스틱 회귀 모델 생성 및 훈련 (가중치 부여)\n",
        "logistic_model_weighted = LogisticRegression(class_weight=class_weights, random_state=42)\n",
        "logistic_model_weighted.fit(X_train, y_train_int)\n",
        "\n",
        "# 테스트 데이터에 대한 예측\n",
        "y_pred_weighted = logistic_model_weighted.predict(X_test)\n",
        "\n",
        "# 정확도 평가\n",
        "accuracy_weighted = accuracy_score(y_test, y_pred_weighted)\n",
        "print(\"로지스틱 회귀 (가중치 부여) 정확도:\", accuracy_weighted)"
      ],
      "metadata": {
        "colab": {
          "base_uri": "https://localhost:8080/"
        },
        "id": "mX4yLzG347Db",
        "outputId": "02200995-ed5f-4fda-fcbc-38f6b9300404"
      },
      "execution_count": 85,
      "outputs": [
        {
          "output_type": "stream",
          "name": "stdout",
          "text": [
            "로지스틱 회귀 (가중치 부여) 정확도: 0.0\n"
          ]
        },
        {
          "output_type": "stream",
          "name": "stderr",
          "text": [
            "/usr/local/lib/python3.10/dist-packages/sklearn/linear_model/_logistic.py:458: ConvergenceWarning: lbfgs failed to converge (status=1):\n",
            "STOP: TOTAL NO. of ITERATIONS REACHED LIMIT.\n",
            "\n",
            "Increase the number of iterations (max_iter) or scale the data as shown in:\n",
            "    https://scikit-learn.org/stable/modules/preprocessing.html\n",
            "Please also refer to the documentation for alternative solver options:\n",
            "    https://scikit-learn.org/stable/modules/linear_model.html#logistic-regression\n",
            "  n_iter_i = _check_optimize_result(\n"
          ]
        }
      ]
    }
  ]
}